{
 "cells": [
  {
   "cell_type": "markdown",
   "id": "0",
   "metadata": {},
   "source": [
    "# Loop Calculator — Demo Notebook\n",
    "\n",
    "This notebook shows how to use your `loop_calculator.py` module to evaluate:\n",
    "- **Closed-loop** operating points (symmetric and asymmetric loops)\n",
    "- **Open-case** flows with fixed inlet/outlet pressures\n",
    "- (Optional) a **pressure profile** plot along an asymmetric loop\n",
    "\n"
   ]
  },
  {
   "cell_type": "code",
   "execution_count": null,
   "id": "1",
   "metadata": {},
   "outputs": [],
   "source": [
    "%load_ext autoreload\n",
    "%autoreload 2\n",
    "\n",
    "import loop_calculator as lc\n",
    "print(\"Imported loop_calculator ✓\")"
   ]
  },
  {
   "cell_type": "markdown",
   "id": "2",
   "metadata": {},
   "source": [
    "## Setup: gas, pump, and loop segments"
   ]
  },
  {
   "cell_type": "code",
   "execution_count": null,
   "id": "3",
   "metadata": {},
   "outputs": [],
   "source": [
    "# --- Gas: Xenon at ~293 K ---\n",
    "T = 293.0\n",
    "M_xe = 0.131293\n",
    "R  = 8.314 / M_xe\n",
    "mu = 2.3e-5\n",
    "\n",
    "# --- Pump curve ---\n",
    "pump = lc.PumpCurve(\n",
    "    Q0_Lpm=30.0,\n",
    "    s_Lpm_per_bar=(30.0-20.0)/3.0,\n",
    "    vac_curve_pts=[\n",
    "        (0.12, 0.0),\n",
    "        (0.20, 5.0),\n",
    "        (0.40, 15.0),\n",
    "        (1.00, 30.0),\n",
    "    ]\n",
    ")\n",
    "print(\"Pump curve set:\", pump)"
   ]
  },
  {
   "cell_type": "code",
   "execution_count": null,
   "id": "4",
   "metadata": {},
   "outputs": [],
   "source": [
    "# --- Segments ---\n",
    "def mm(x): return x*1e-3\n",
    "\n",
    "# Symmetric example: 6 m of 1/4\" (ID ≈ 4.6 mm)\n",
    "sym_segments = [lc.Segment(L=6.0, D=mm(4.6), eps=0.0)]\n",
    "\n",
    "# Asymmetric example: 3 m of 1/2\" then 2 m of 1/4\"\n",
    "asym_segments = [\n",
    "    lc.Segment(L=3.0, D=mm(4.6), eps=0.0),\n",
    "    lc.Segment(L=3.0, D=mm(4.6), eps=0.0)\n",
    "]"
   ]
  },
  {
   "cell_type": "markdown",
   "id": "5",
   "metadata": {},
   "source": [
    "## Closed-loop example — symmetric loop"
   ]
  },
  {
   "cell_type": "code",
   "execution_count": null,
   "id": "6",
   "metadata": {},
   "outputs": [],
   "source": [
    "p_mean_bar = 1.8\n",
    "results_sym = lc.solve_closed_loop_asym(p_mean_bar, sym_segments, T, R, mu, pump)\n",
    "print(results_sym)"
   ]
  },
  {
   "cell_type": "markdown",
   "id": "7",
   "metadata": {},
   "source": [
    "## Closed-loop example — asymmetric loop"
   ]
  },
  {
   "cell_type": "code",
   "execution_count": null,
   "id": "8",
   "metadata": {},
   "outputs": [],
   "source": [
    "results_asym = lc.solve_closed_loop_asym(p_mean_bar, asym_segments, T, R, mu, pump)\n",
    "print(results_asym)"
   ]
  },
  {
   "cell_type": "code",
   "execution_count": null,
   "id": "9",
   "metadata": {},
   "outputs": [],
   "source": [
    "import numpy as np\n",
    "dp2, f, Re = lc.p2_drop_segment(2.38e5, 0.002366, lc.Segment(L=6.0, D=mm(4.6), eps=0.0), T, R, mu)\n",
    "\n",
    "print('dp = ',np.sqrt(dp2)*1e-5)\n",
    "print('dp = ',dp2 / (1.03e5+2.38e5) *1e-5)\n",
    "print('f = ',f)\n",
    "print('Re = ',Re)\n",
    "\n"
   ]
  },
  {
   "cell_type": "code",
   "execution_count": null,
   "id": "10",
   "metadata": {},
   "outputs": [],
   "source": []
  },
  {
   "cell_type": "code",
   "execution_count": null,
   "id": "11",
   "metadata": {},
   "outputs": [],
   "source": []
  }
 ],
 "metadata": {
  "kernelspec": {
   "display_name": "g4",
   "language": "python",
   "name": "python3"
  },
  "language_info": {
   "codemirror_mode": {
    "name": "ipython",
    "version": 3
   },
   "file_extension": ".py",
   "mimetype": "text/x-python",
   "name": "python",
   "nbconvert_exporter": "python",
   "pygments_lexer": "ipython3",
   "version": "3.13.3"
  }
 },
 "nbformat": 4,
 "nbformat_minor": 5
}
