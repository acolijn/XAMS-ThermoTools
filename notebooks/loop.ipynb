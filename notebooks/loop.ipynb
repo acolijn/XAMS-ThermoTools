{
 "cells": [
  {
   "cell_type": "markdown",
   "metadata": {},
   "source": [
    "# Loop Calculator — Demo Notebook\n",
    "\n",
    "This notebook shows how to use your `loop_calculator.py` module to evaluate:\n",
    "- **Closed-loop** operating points (symmetric and asymmetric loops)\n",
    "- **Open-case** flows with fixed inlet/outlet pressures\n",
    "- (Optional) a **pressure profile** plot along an asymmetric loop\n",
    "\n"
   ]
  },
  {
   "cell_type": "code",
   "execution_count": 2,
   "metadata": {},
   "outputs": [
    {
     "name": "stdout",
     "output_type": "stream",
     "text": [
      "The autoreload extension is already loaded. To reload it, use:\n",
      "  %reload_ext autoreload\n"
     ]
    },
    {
     "ename": "ModuleNotFoundError",
     "evalue": "No module named 'loop_calculator'",
     "output_type": "error",
     "traceback": [
      "\u001b[31m---------------------------------------------------------------------------\u001b[39m",
      "\u001b[31mModuleNotFoundError\u001b[39m                       Traceback (most recent call last)",
      "\u001b[36mCell\u001b[39m\u001b[36m \u001b[39m\u001b[32mIn[2]\u001b[39m\u001b[32m, line 4\u001b[39m\n\u001b[32m      1\u001b[39m get_ipython().run_line_magic(\u001b[33m'\u001b[39m\u001b[33mload_ext\u001b[39m\u001b[33m'\u001b[39m, \u001b[33m'\u001b[39m\u001b[33mautoreload\u001b[39m\u001b[33m'\u001b[39m)\n\u001b[32m      2\u001b[39m get_ipython().run_line_magic(\u001b[33m'\u001b[39m\u001b[33mautoreload\u001b[39m\u001b[33m'\u001b[39m, \u001b[33m'\u001b[39m\u001b[33m2\u001b[39m\u001b[33m'\u001b[39m)\n\u001b[32m----> \u001b[39m\u001b[32m4\u001b[39m \u001b[38;5;28;01mimport\u001b[39;00m\u001b[38;5;250m \u001b[39m\u001b[34;01mloop_calculator\u001b[39;00m\u001b[38;5;250m \u001b[39m\u001b[38;5;28;01mas\u001b[39;00m\u001b[38;5;250m \u001b[39m\u001b[34;01mlc\u001b[39;00m\n\u001b[32m      5\u001b[39m \u001b[38;5;28mprint\u001b[39m(\u001b[33m\"\u001b[39m\u001b[33mImported loop_calculator ✓\u001b[39m\u001b[33m\"\u001b[39m)\n",
      "\u001b[31mModuleNotFoundError\u001b[39m: No module named 'loop_calculator'"
     ]
    }
   ],
   "source": [
    "%load_ext autoreload\n",
    "%autoreload 2\n",
    "\n",
    "import loop_calculator as lc\n",
    "print(\"Imported loop_calculator ✓\")"
   ]
  },
  {
   "cell_type": "markdown",
   "metadata": {},
   "source": [
    "## Setup: gas, pump, and loop segments"
   ]
  },
  {
   "cell_type": "code",
   "execution_count": 5,
   "metadata": {},
   "outputs": [
    {
     "name": "stdout",
     "output_type": "stream",
     "text": [
      "Pump curve set: PumpCurve(Q0_Lpm=30.0, s_Lpm_per_bar=3.3333333333333335, vac_curve_pts=[(0.12, 0.0), (0.2, 5.0), (0.4, 15.0), (1.0, 30.0)])\n"
     ]
    }
   ],
   "source": [
    "# --- Gas: Xenon at ~293 K ---\n",
    "T = 293.0\n",
    "M_xe = 0.131293\n",
    "R  = 8.314 / M_xe\n",
    "mu = 2.3e-5\n",
    "\n",
    "# --- Pump curve ---\n",
    "pump = lc.PumpCurve(\n",
    "    Q0_Lpm=30.0,\n",
    "    s_Lpm_per_bar=(30.0-20.0)/3.0,\n",
    "    vac_curve_pts=[\n",
    "        (0.12, 0.0),\n",
    "        (0.20, 5.0),\n",
    "        (0.40, 15.0),\n",
    "        (1.00, 30.0),\n",
    "    ]\n",
    ")\n",
    "print(\"Pump curve set:\", pump)"
   ]
  },
  {
   "cell_type": "code",
   "execution_count": 6,
   "metadata": {},
   "outputs": [],
   "source": [
    "# --- Segments ---\n",
    "def mm(x): return x*1e-3\n",
    "\n",
    "# Symmetric example: 6 m of 1/4\" (ID ≈ 4.6 mm)\n",
    "sym_segments = [lc.Segment(L=6.0, D=mm(4.6), eps=0.0)]\n",
    "\n",
    "# Asymmetric example: 3 m of 1/2\" then 2 m of 1/4\"\n",
    "asym_segments = [\n",
    "    lc.Segment(L=3.0, D=mm(4.6), eps=0.0),\n",
    "    lc.Segment(L=3.0, D=mm(4.6), eps=0.0)\n",
    "]"
   ]
  },
  {
   "cell_type": "markdown",
   "metadata": {},
   "source": [
    "## Closed-loop example — symmetric loop"
   ]
  },
  {
   "cell_type": "code",
   "execution_count": 7,
   "metadata": {},
   "outputs": [
    {
     "name": "stdout",
     "output_type": "stream",
     "text": [
      "{'Pin_bar_abs': 1.0335894937533885, 'Pout_bar_abs': 2.3877459878940135, 'dp_bar': 1.354156494140625, 'mdot_kg_s': 0.0023661858673652393, 'Qavg_L_min': 14.634020867508697, 'Q_in_L_min': 25.4852025109696, 'Q_out_L_min': 11.031842455213827}\n"
     ]
    }
   ],
   "source": [
    "p_mean_bar = 1.8\n",
    "results_sym = lc.solve_closed_loop_asym(p_mean_bar, sym_segments, T, R, mu, pump)\n",
    "print(results_sym)"
   ]
  },
  {
   "cell_type": "markdown",
   "metadata": {},
   "source": [
    "## Closed-loop example — asymmetric loop"
   ]
  },
  {
   "cell_type": "code",
   "execution_count": 8,
   "metadata": {},
   "outputs": [
    {
     "name": "stdout",
     "output_type": "stream",
     "text": [
      "{'Pin_bar_abs': 1.0335894937533885, 'Pout_bar_abs': 2.3877459878940135, 'dp_bar': 1.354156494140625, 'mdot_kg_s': 0.0023661858673652393, 'Qavg_L_min': 14.634020867508697, 'Q_in_L_min': 25.4852025109696, 'Q_out_L_min': 11.031842455213827}\n"
     ]
    }
   ],
   "source": [
    "results_asym = lc.solve_closed_loop_asym(p_mean_bar, asym_segments, T, R, mu, pump)\n",
    "print(results_asym)"
   ]
  },
  {
   "cell_type": "markdown",
   "id": "0920e6ef",
   "metadata": {},
   "source": []
  },
  {
   "cell_type": "code",
   "execution_count": 9,
   "id": "e09f6220",
   "metadata": {},
   "outputs": [
    {
     "name": "stdout",
     "output_type": "stream",
     "text": [
      "dp =  2.152297202269643\n",
      "dp =  1.3584701603805667\n",
      "f =  0.023610034003207044\n",
      "Re =  28473.390953151185\n"
     ]
    }
   ],
   "source": [
    "import numpy as np\n",
    "dp2, f, Re = lc.p2_drop_segment(2.38e5, 0.002366, lc.Segment(L=6.0, D=mm(4.6), eps=0.0), T, R, mu)\n",
    "\n",
    "print('dp = ',np.sqrt(dp2)*1e-5)\n",
    "print('dp = ',dp2 / (1.03e5+2.38e5) *1e-5)\n",
    "print('f = ',f)\n",
    "print('Re = ',Re)\n",
    "\n"
   ]
  }
 ],
 "metadata": {
  "kernelspec": {
   "display_name": "g4",
   "language": "python",
   "name": "python3"
  },
  "language_info": {
   "codemirror_mode": {
    "name": "ipython",
    "version": 3
   },
   "file_extension": ".py",
   "mimetype": "text/x-python",
   "name": "python",
   "nbconvert_exporter": "python",
   "pygments_lexer": "ipython3",
   "version": "3.13.3"
  }
 },
 "nbformat": 4,
 "nbformat_minor": 5
}
