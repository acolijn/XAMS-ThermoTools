{
 "cells": [
  {
   "cell_type": "code",
   "execution_count": null,
   "id": "0",
   "metadata": {},
   "outputs": [],
   "source": [
    "import matplotlib.pyplot as plt\n",
    "from slow_control import SlowControlLog\n",
    "\n",
    "header = \"../data/SC_HEADER/1-9-2025\"\n",
    "data = [\n",
    "    \"../data/SC_DATA/4-9-2025\",\n",
    "    \"../data/SC_DATA/5-9-2025\",\n",
    "    \"../data/SC_DATA/6-9-2025\",\n",
    "    \"../data/SC_DATA/7-9-2025\",\n",
    "    \"../data/SC_DATA/8-9-2025\",\n",
    "    \"../data/SC_DATA/9-9-2025\"\n",
    "]\n",
    "\n",
    "log = SlowControlLog(header, data)\n",
    "print(log.available_timerange())    # (Timestamp('2025-09-06 00:00:01'), Timestamp('2025-09-07 23:59:57'))\n",
    "print(log.list_variables()[:100])    # peek at available channels\n",
    "\n",
    "# Plot any variable vs time (single-chart, matplotlib)\n",
    "t_start = \"2025-09-04 00:00\"\n",
    "t_end = \"2025-09-09 23:59\"\n",
    "# If you want to smooth/noise-reduce:\n"
   ]
  },
  {
   "cell_type": "code",
   "execution_count": null,
   "id": "1",
   "metadata": {},
   "outputs": [],
   "source": [
    "\n",
    "fig = log.plot([\"Pmain\",\"P101\",\"P102\", \"P103\", \"P104\"], start=t_start, end=t_end, resample=\"5min\", engine=\"plotly\")\n",
    "fig.update_layout(title=\"Pressure\", yaxis_title=\"Pressure (bar)\", xaxis_title=\"Time\")\n",
    "fig.update_yaxes(range=[-0.1, 5])\n",
    "fig.show()\n"
   ]
  },
  {
   "cell_type": "code",
   "execution_count": null,
   "id": "2",
   "metadata": {},
   "outputs": [],
   "source": [
    "fig = log.plot([\"FM101\"], start=t_start, end=t_end, resample=\"5min\", engine=\"plotly\")\n",
    "fig.show()"
   ]
  },
  {
   "cell_type": "code",
   "execution_count": null,
   "id": "3",
   "metadata": {},
   "outputs": [],
   "source": [
    "fig = log.plot([\"t0\", \"t1\", \"t2\", \"t3\", \"t4\", \"t5\", \"t6\",\"Temp A\", \"Temp B\"], start=t_start, end=t_end, resample=\"5min\", engine=\"plotly\")\n",
    "fig.show()"
   ]
  },
  {
   "cell_type": "code",
   "execution_count": null,
   "id": "4",
   "metadata": {},
   "outputs": [],
   "source": []
  }
 ],
 "metadata": {
  "kernelspec": {
   "display_name": "g4",
   "language": "python",
   "name": "python3"
  },
  "language_info": {
   "codemirror_mode": {
    "name": "ipython",
    "version": 3
   },
   "file_extension": ".py",
   "mimetype": "text/x-python",
   "name": "python",
   "nbconvert_exporter": "python",
   "pygments_lexer": "ipython3",
   "version": "3.13.3"
  }
 },
 "nbformat": 4,
 "nbformat_minor": 5
}
