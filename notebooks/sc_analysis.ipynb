{
 "cells": [
  {
   "cell_type": "code",
   "execution_count": null,
   "id": "0",
   "metadata": {},
   "outputs": [],
   "source": [
    "import matplotlib.pyplot as plt\n",
    "from slow_control import SlowControlLog\n",
    "\n",
    "header = \"../data/SC_HEADER/1-9-2025\"\n",
    "data = [\n",
    "    \"../data/SC_DATA/4-9-2025\",\n",
    "    \"../data/SC_DATA/5-9-2025\",\n",
    "    \"../data/SC_DATA/6-9-2025\",\n",
    "    \"../data/SC_DATA/7-9-2025\",\n",
    "    \"../data/SC_DATA/8-9-2025\",\n",
    "    \"../data/SC_DATA/9-9-2025\"\n",
    "]\n",
    "\n",
    "log = SlowControlLog(header, data)\n",
    "print(log.available_timerange())    # (Timestamp('2025-09-06 00:00:01'), Timestamp('2025-09-07 23:59:57'))\n",
    "print(log.list_variables()[:100])    # peek at available channels\n",
    "\n",
    "# Plot any variable vs time (single-chart, matplotlib)\n",
    "t_start = \"2025-09-04 11:00\"\n",
    "t_end = \"2025-09-9 23:59\"\n",
    "# If you want to smooth/noise-reduce:\n",
    "\n",
    "ax = log.plot([\"Pmain\",\"P101\",\"P102\", \"P103\", \"P104\"], start=t_start, end=t_end, resample=\"5min\")\n",
    "ax.set_ylabel(\"Pressure (bar)\")\n",
    "ax.set_ylim(0, 3)  # set y-axis limits if needed\n"
   ]
  },
  {
   "cell_type": "code",
   "execution_count": null,
   "id": "1",
   "metadata": {},
   "outputs": [],
   "source": [
    "ax = log.plot([\"FM101\"], start=t_start, end=t_end, resample=\"5min\")\n",
    "ax.set_ylabel(\"Flow (g/min)\")"
   ]
  },
  {
   "cell_type": "code",
   "execution_count": null,
   "id": "2",
   "metadata": {},
   "outputs": [],
   "source": [
    "ax = log.plot([\"t0\", \"t1\", \"t2\", \"t3\", \"t4\", \"t5\", \"t6\"], start=t_start, end=t_end, resample=\"5min\")\n",
    "ax.set_ylabel(\"Temperature (°C)\")"
   ]
  },
  {
   "cell_type": "code",
   "execution_count": null,
   "id": "3",
   "metadata": {},
   "outputs": [],
   "source": []
  }
 ],
 "metadata": {
  "kernelspec": {
   "display_name": "g4",
   "language": "python",
   "name": "python3"
  },
  "language_info": {
   "codemirror_mode": {
    "name": "ipython",
    "version": 3
   },
   "file_extension": ".py",
   "mimetype": "text/x-python",
   "name": "python",
   "nbconvert_exporter": "python",
   "pygments_lexer": "ipython3",
   "version": "3.13.3"
  }
 },
 "nbformat": 4,
 "nbformat_minor": 5
}
